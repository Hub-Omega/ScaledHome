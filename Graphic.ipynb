{
 "cells": [
  {
   "cell_type": "code",
   "execution_count": 1,
   "metadata": {},
   "outputs": [],
   "source": [
    "from tkinter import *\n",
    "from PIL import ImageTk, Image"
   ]
  },
  {
   "cell_type": "code",
   "execution_count": 7,
   "metadata": {},
   "outputs": [
    {
     "name": "stderr",
     "output_type": "stream",
     "text": [
      "C:\\Users\\abraa\\AppData\\Local\\Temp\\ipykernel_12092\\1551248492.py:15: DeprecationWarning: ANTIALIAS is deprecated and will be removed in Pillow 10 (2023-07-01). Use Resampling.LANCZOS instead.\n",
      "  resized_lamp_image= lamp_image.resize((100,100), Image.ANTIALIAS)\n"
     ]
    }
   ],
   "source": [
    "# Create an instance of tkinter window\n",
    "win = Tk()\n",
    "\n",
    "# Define the geometry of the window\n",
    "win.geometry(\"700x600\")\n",
    "\n",
    "canvas= Canvas(win, width= 600, height= 600)\n",
    "canvas.pack()\n",
    "\n",
    "#Load an image in the script\n",
    "lamp_image= (Image.open(\"lamp.jpg\"))\n",
    "# house_image = (Image.open(\"house.jpg\"))\n",
    "\n",
    "#Resize the Image using resize method\n",
    "resized_lamp_image= lamp_image.resize((100,100), Image.ANTIALIAS)\n",
    "lamp_new_image= ImageTk.PhotoImage(resized_lamp_image)\n",
    "\n",
    "# resized_house_image = house_image.resize((300,300), Image.ANTIALIAS)\n",
    "# house_new_image= ImageTk.PhotoImage(resized_house_image)\n",
    "\n",
    "\n",
    "#Add image to the Canvas Items\n",
    "lamp = canvas.create_image(500,100, anchor=NW, image=lamp_new_image)\n",
    "# house = canvas.create_image(200,300, anchor=NW, image=house_new_image)\n",
    "\n",
    "canvas.create_line(50,100,600,100,width = 15)\n",
    "drawHouse()\n",
    "\n",
    "def left(e):\n",
    "   x = -35\n",
    "   y = 0\n",
    "   canvas.move(lamp, x, y)\n",
    "\n",
    "def right(e):\n",
    "    x = 35\n",
    "    y = 0\n",
    "    canvas.move(lamp, x, y)\n",
    "\n",
    "win.bind(\"<Left>\", left)\n",
    "win.bind(\"<Right>\", right)\n",
    "\n",
    "win.mainloop()"
   ]
  },
  {
   "cell_type": "code",
   "execution_count": 2,
   "metadata": {},
   "outputs": [],
   "source": [
    "def drawHouse():\n",
    "    canvas.create_rectangle(50,340,550,440)\n",
    "    canvas.create_line(50,340,320,290)\n",
    "    canvas.create_line(550,340,320,290)"
   ]
  }
 ],
 "metadata": {
  "kernelspec": {
   "display_name": "Python 3.10.5 64-bit (windows store)",
   "language": "python",
   "name": "python3"
  },
  "language_info": {
   "codemirror_mode": {
    "name": "ipython",
    "version": 3
   },
   "file_extension": ".py",
   "mimetype": "text/x-python",
   "name": "python",
   "nbconvert_exporter": "python",
   "pygments_lexer": "ipython3",
   "version": "3.10.5"
  },
  "orig_nbformat": 4,
  "vscode": {
   "interpreter": {
    "hash": "669ada1042377c07246c7090b7dba1522c24433a030b67ee1b51e5c3e6568e64"
   }
  }
 },
 "nbformat": 4,
 "nbformat_minor": 2
}
